{
 "cells": [
  {
   "cell_type": "markdown",
   "id": "1f7319fb",
   "metadata": {},
   "source": [
    "PROFIL PAYS\n",
    "=="
   ]
  },
  {
   "cell_type": "code",
   "execution_count": 1,
   "id": "8e454097",
   "metadata": {},
   "outputs": [],
   "source": [
    "import requests\n",
    "from bs4 import BeautifulSoup \n",
    "import re\n",
    "import pandas as pd\n",
    "import numpy as np\n",
    "import time"
   ]
  },
  {
   "cell_type": "code",
   "execution_count": 2,
   "id": "96d88250",
   "metadata": {},
   "outputs": [],
   "source": [
    "link = \"https://agriculture.gouv.fr/les-politiques-agricoles-travers-le-monde\""
   ]
  },
  {
   "cell_type": "code",
   "execution_count": 3,
   "id": "45f3346b",
   "metadata": {},
   "outputs": [],
   "source": [
    "def get_country_profile(link:str) -> list:\n",
    "    \n",
    "    import requests\n",
    "    from bs4 import BeautifulSoup\n",
    "    startTime = time.time()\n",
    "    \n",
    "    site = requests.get(link)\n",
    "    \n",
    "    if site.ok:\n",
    "        drapeau = []\n",
    "        pays = []\n",
    "        info = []\n",
    "        soup = BeautifulSoup(site.text,'lxml')\n",
    "        tbody = soup.find('tbody')\n",
    "        for first in tbody.find_all(\"tr\",class_=\"row_even\"):\n",
    "            for c in first.find_all(\"figure\"):\n",
    "                try:\n",
    "                    drap1 = c.find('img')\n",
    "                    drapeau.append(drap1[\"src\"])\n",
    "                except Exception as e:\n",
    "                    print(e)\n",
    "            for c in first.find_all(\"a\"):\n",
    "                try:\n",
    "                    name1 = (c.string if c else '')\n",
    "                    pays.append(name1)\n",
    "                    if c[\"href\"].find('http://agriculture.gouv.fr') != -1:\n",
    "                        lien1 = c[\"href\"]\n",
    "                    else:\n",
    "                        lien1 = 'http://agriculture.gouv.fr'+ c[\"href\"]\n",
    "                    info.append(lien1)\n",
    "                except Exception as e:\n",
    "                    print(e)\n",
    "        for second in tbody.find_all(\"tr\",class_=\"row_odd\"):\n",
    "            for c in second.find_all(\"figure\"):\n",
    "                try:\n",
    "                    drap2 = c.find('img')\n",
    "                    drapeau.append(drap2[\"src\"])\n",
    "                except Exception as e:\n",
    "                    print(e)\n",
    "                \n",
    "            for c in second.find_all(\"a\"):\n",
    "                try:\n",
    "                    name2 = c.string\n",
    "                    pays.append(name2)\n",
    "                    if c[\"href\"].find('http://agriculture.gouv.fr') != -1 or c[\"href\"].find('https://agriculture.gouv.fr'):\n",
    "                        lien2 = c[\"href\"]\n",
    "                    else:\n",
    "                        lien2 = 'http://agriculture.gouv.fr'+ c[\"href\"]\n",
    "                    info.append(lien2)\n",
    "                except Exception as e:\n",
    "                    print(e)\n",
    "    executionTime = (time.time() - startTime)\n",
    "    print('Execution time in seconds: ' + str(executionTime))\n",
    "    \n",
    "    return pays,info,drapeau"
   ]
  },
  {
   "cell_type": "code",
   "execution_count": 4,
   "id": "c156e093",
   "metadata": {},
   "outputs": [
    {
     "name": "stdout",
     "output_type": "stream",
     "text": [
      "Execution time in seconds: 0.4872913360595703\n"
     ]
    },
    {
     "data": {
      "text/plain": [
       "' Canada'"
      ]
     },
     "execution_count": 4,
     "metadata": {},
     "output_type": "execute_result"
    }
   ],
   "source": [
    "country,info,symbol = get_country_profile(link)\n",
    "info.remove(\"/sites/minagri/files/1506-ci-resinter-fi-angola.pdf\")\n",
    "country[42].replace(country[42],country[42].strip(\"\\n\\t\").split(\".\")[0])"
   ]
  },
  {
   "cell_type": "code",
   "execution_count": 5,
   "id": "858e9b0e",
   "metadata": {},
   "outputs": [
    {
     "name": "stdout",
     "output_type": "stream",
     "text": [
      "0 Afrique du Sud\n",
      "1 Algérie\n",
      "2 None\n",
      "3 Angola\n",
      "4 Japon\n",
      "5 Kazakhstan\n",
      "6 Kenya\n",
      "7 Lettonie\n",
      "8 Bénin\n",
      "9 Birmanie\n",
      "10 Brésil\n",
      "11 Bulgarie\n",
      "12 Mali\n",
      "13 Maroc\n",
      "14 Mexique\n",
      "15 Mongolie\n",
      "16 Corée du Sud\n",
      "17 Côte d'Ivoire\n",
      "18 Danemark\n",
      "19 Egypte\n",
      "20 Pologne\n",
      "21 Portugal\n",
      "22 Roumanie\n",
      "23 Royaume-Uni\n",
      "24 Grèce\n",
      "25 Hongrie\n",
      "26 Inde\n",
      "27 Indonésie\n",
      "28 Tunisie\n",
      "29 Turquie\n",
      "30 Ukraine\n",
      "31 Vietnam\n",
      "32 Arabie saoudite\n",
      "33 Argentine\n",
      "34 Australie\n",
      "35 None\n",
      "36 Autriche\n",
      "37 Lituanie\n",
      "38 Madagascar\n",
      "39 Malaisie\n",
      "40 Burkina Faso\n",
      "41 Cameroun\n",
      "42 \n",
      "\t\t\t\t\t\t\t Canada.pdf (PDF, 282.45 Ko) \n",
      "43 Chine\n",
      "44 Nigeria\n",
      "45 Nouvelle-Zélande\n",
      "46 Pays-Bas\n",
      "47 Philippines\n",
      "48 Espagne\n",
      "49 États-Unis\n",
      "50 Éthiopie\n",
      "51 Ghana\n",
      "52 Russie\n",
      "53 Sénégal\n",
      "54 Serbie\n",
      "55 Suisse\n",
      "56 Thaïlande\n",
      "57 Irlande\n",
      "58 Italie\n",
      "59 Zambie\n"
     ]
    }
   ],
   "source": [
    "for i,c in enumerate(country):\n",
    "    print(i,c)"
   ]
  },
  {
   "cell_type": "code",
   "execution_count": 6,
   "id": "565e06c1",
   "metadata": {},
   "outputs": [
    {
     "data": {
      "text/plain": [
       "' Canada'"
      ]
     },
     "execution_count": 6,
     "metadata": {},
     "output_type": "execute_result"
    }
   ],
   "source": [
    "country[42].strip(\"\\n\\t\").split(\".\")[0]"
   ]
  },
  {
   "cell_type": "code",
   "execution_count": 8,
   "id": "1c6f08a8",
   "metadata": {},
   "outputs": [
    {
     "name": "stdout",
     "output_type": "stream",
     "text": [
      "Execution time in seconds: 23.00552201271057\n"
     ]
    }
   ],
   "source": [
    "import time\n",
    "startTime = time.time()\n",
    "intrus = []\n",
    "pdf_link = []\n",
    "for c in info:\n",
    "    try:\n",
    "        obj = requests.get(c)\n",
    "        if obj.ok:\n",
    "            sp = BeautifulSoup(obj.text,'lxml')\n",
    "            try:\n",
    "                div = sp.find(\"div\",class_=\"field field-name-body field-type-text-with-summary field-label-hidden\")\n",
    "                a = div.find(\"a\")\n",
    "                if a[\"href\"].find('https://agriculture.gouv.fr') != -1 or a[\"href\"].find('http://agriculture.gouv.fr') != -1:\n",
    "                    lien = a[\"href\"]\n",
    "                else:\n",
    "                    lien = 'https://agriculture.gouv.fr'+ a[\"href\"]\n",
    "                pdf_link.append(lien)\n",
    "            except AttributeError:\n",
    "                intrus.append(c)\n",
    "                pass\n",
    "            except TypeError:\n",
    "                intrus.append(c)\n",
    "                pass\n",
    "    except Exception as e:\n",
    "        intrus.append(c)\n",
    "        pass\n",
    "executionTime = (time.time() - startTime)\n",
    "print('Execution time in seconds: ' + str(executionTime))"
   ]
  },
  {
   "cell_type": "code",
   "execution_count": 15,
   "id": "1d821060",
   "metadata": {},
   "outputs": [
    {
     "data": {
      "text/plain": [
       "(60, 59, 59, 37)"
      ]
     },
     "execution_count": 15,
     "metadata": {},
     "output_type": "execute_result"
    }
   ],
   "source": [
    "len(country),len(info),len(symbol),len(pdf_link)"
   ]
  },
  {
   "cell_type": "code",
   "execution_count": null,
   "id": "12fbf52e",
   "metadata": {},
   "outputs": [],
   "source": []
  },
  {
   "cell_type": "code",
   "execution_count": 14,
   "id": "97fd4554",
   "metadata": {},
   "outputs": [
    {
     "name": "stdout",
     "output_type": "stream",
     "text": [
      "Le total des lien incohérent: 3\n"
     ]
    }
   ],
   "source": [
    "print(\"Le total des lien incohérent: {}\".format(len(intrus)))"
   ]
  },
  {
   "cell_type": "code",
   "execution_count": 1,
   "id": "46a1ba51",
   "metadata": {},
   "outputs": [],
   "source": [
    "import numpy as np\n",
    "\n",
    "def r_math(dis,t):\n",
    "    return -np.log(dis) / t"
   ]
  },
  {
   "cell_type": "code",
   "execution_count": 27,
   "id": "caa44e9d",
   "metadata": {},
   "outputs": [
    {
     "data": {
      "text/plain": [
       "0.01005033585350145"
      ]
     },
     "execution_count": 27,
     "metadata": {},
     "output_type": "execute_result"
    }
   ],
   "source": [
    "dis = 0.99**(90/90)\n",
    "r_math(dis,1)"
   ]
  },
  {
   "cell_type": "code",
   "execution_count": 31,
   "id": "529af643",
   "metadata": {},
   "outputs": [],
   "source": [
    "s = np.array([97,98,99,100,101,102,103])\n",
    "v_today = np.array([-30,-18,-8,0,6,10,12])\n",
    "delta = np.array([13,11,9,7,5,3,1])\n",
    "v_tom = np.array([-26,-14,-4,4,10,14,16])"
   ]
  },
  {
   "cell_type": "code",
   "execution_count": 32,
   "id": "8f6f004a",
   "metadata": {},
   "outputs": [],
   "source": [
    "new = [7 * (100 - c) for c in s]"
   ]
  },
  {
   "cell_type": "code",
   "execution_count": 38,
   "metadata": {},
   "outputs": [],
   "source": [
    "x = new + v_tom"
   ]
  },
  {
   "cell_type": "code",
   "execution_count": 41,
   "metadata": {},
   "outputs": [
    {
     "data": {
      "image/png": "[encoded data removed]",
      "text/plain": [
       "<Figure size 432x288 with 1 Axes>"
      ]
     },
     "metadata": {
      "needs_background": "light"
     },
     "output_type": "display_data"
    }
   ],
   "source": [
    "import matplotlib.pyplot as plt\n",
    "\n",
    "plt.plot(s,x);"
   ]
  },
  {
   "cell_type": "code",
   "execution_count": null,
   "metadata": {},
   "outputs": [],
   "source": []
  }
 ],
 "metadata": {
  "interpreter": {
   "hash": "4f863e4ff9d140a4c486a365c7e18e194d9113c7245ae220582032eb95f08043"
  },
  "kernelspec": {
   "display_name": "Python 3.9.7 64-bit ('duv': conda)",
   "name": "python3"
  },
  "language_info": {
   "codemirror_mode": {
    "name": "ipython",
    "version": 3
   },
   "file_extension": ".py",
   "mimetype": "text/x-python",
   "name": "python",
   "nbconvert_exporter": "python",
   "pygments_lexer": "ipython3",
   "version": "3.9.7"
  }
 },
 "nbformat": 4,
 "nbformat_minor": 5
}
