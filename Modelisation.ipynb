{
 "cells": [
  {
   "cell_type": "markdown",
   "id": "6b3db659",
   "metadata": {},
   "source": [
    "## **Charagement des bibliothèques**"
   ]
  },
  {
   "cell_type": "code",
   "execution_count": 210,
   "id": "ee3bba56",
   "metadata": {},
   "outputs": [],
   "source": [
    "import warnings\n",
    "warnings.filterwarnings(\"ignore\")\n",
    "import time\n",
    "import re\n",
    "import os\n",
    "\n",
    "import pandas as pd\n",
    "import pandas.core.algorithms as algos\n",
    "pd.set_option('display.max_rows',None) \n",
    "from datetime import date\n",
    "import numpy as np\n",
    "import matplotlib.pyplot as plt\n",
    "from scipy.stats import randint as sp_randint\n",
    "from scipy.stats import uniform as sp_uniform\n",
    "from scipy.stats import norm\n",
    "from itertools import chain, combinations\n",
    "import seaborn as sns\n",
    "\n",
    "import joblib\n",
    "import operator\n",
    "from sklearn.feature_selection import RFE\n",
    "from sklearn.compose import ColumnTransformer\n",
    "from sklearn.pipeline import Pipeline\n",
    "from sklearn.impute import SimpleImputer\n",
    "from sklearn.preprocessing import StandardScaler, OneHotEncoder,LabelBinarizer\n",
    "from sklearn.linear_model import LogisticRegression\n",
    "import xgboost as xgb\n",
    "from sklearn import metrics\n",
    "from sklearn.model_selection import train_test_split,RepeatedStratifiedKFold,RandomizedSearchCV,GridSearchCV,RepeatedKFold,cross_val_score\n",
    "from sklearn.ensemble import ExtraTreesClassifier,ExtraTreesRegressor,AdaBoostRegressor,AdaBoostClassifier,RandomForestClassifier,RandomForestRegressor,GradientBoostingRegressor,GradientBoostingClassifier,BaggingClassifier,BaggingRegressor,VotingRegressor,VotingClassifier\n",
    "from sklearn.metrics import mean_squared_error,roc_curve, auc,r2_score,accuracy_score,roc_auc_score,confusion_matrix,recall_score,classification_report,log_loss,make_scorer,precision_score,f1_score\n",
    "\n"
   ]
  },
  {
   "cell_type": "code",
   "execution_count": 211,
   "id": "3a48040f",
   "metadata": {},
   "outputs": [],
   "source": [
    "def target_distribution(data,target):\n",
    "    \n",
    "    #construction table \n",
    "    \n",
    "    endog = data[target]\n",
    "    proportion = (data.groupby([target]).size())\n",
    "    d1 = (((((data.groupby([target]).size()) / data.shape[0])*100).round(2)).to_frame(\"% of count\")).astype(\"string\")+\"%\"\n",
    "    res = pd.concat([proportion.to_frame(\"Count\"), d1],axis=1)\n",
    "    xx = [c for c in res.index]\n",
    "    value = [(c / res[\"Count\"].sum())*100 for c in res[\"Count\"]]\n",
    "    with plt.style.context('seaborn-notebook'):\n",
    "        plt.figure(figsize=(15,5))\n",
    "        graph = plt.bar(xx,value,color=\"c\")\n",
    "        plt.title('Distribution de la Target', size=14,fontweight=\"bold\")\n",
    "        plt.ylabel(\"Frequence en (%)\",fontweight=\"bold\",size=12)\n",
    "        plt.xlabel(\"Classe\",fontweight=\"bold\",size=12)\n",
    "        plt.subplots_adjust(left=.3)\n",
    "    \n",
    "        i = 0\n",
    "        for p in graph:\n",
    "            width = p.get_width()\n",
    "            height = p.get_height()\n",
    "            x, y = p.get_xy()\n",
    "            plt.text(x+width*0.5,\n",
    "                     y+height/3,\n",
    "                     res[\"% of count\"][i],\n",
    "                     ha='center',\n",
    "                     weight='bold')\n",
    "            i+=1\n",
    "        plt.show()"
   ]
  },
  {
   "cell_type": "markdown",
   "id": "62f974ae",
   "metadata": {},
   "source": [
    "## **Chargement des donées**"
   ]
  },
  {
   "cell_type": "code",
   "execution_count": 212,
   "id": "6516c511",
   "metadata": {},
   "outputs": [
    {
     "data": {
      "text/plain": [
       "['base_brut.csv', 'base_model_final.csv']"
      ]
     },
     "execution_count": 212,
     "metadata": {},
     "output_type": "execute_result"
    }
   ],
   "source": [
    "bs = [c for c in os.listdir() if c.endswith(\".csv\")]\n",
    "bs"
   ]
  },
  {
   "cell_type": "code",
   "execution_count": 213,
   "id": "16f42609",
   "metadata": {},
   "outputs": [],
   "source": [
    "df = pd.read_csv('base_model_final.csv')"
   ]
  },
  {
   "cell_type": "code",
   "execution_count": 214,
   "id": "cb856f89",
   "metadata": {},
   "outputs": [
    {
     "data": {
      "text/html": [
       "<div>\n",
       "<style scoped>\n",
       "    .dataframe tbody tr th:only-of-type {\n",
       "        vertical-align: middle;\n",
       "    }\n",
       "\n",
       "    .dataframe tbody tr th {\n",
       "        vertical-align: top;\n",
       "    }\n",
       "\n",
       "    .dataframe thead th {\n",
       "        text-align: right;\n",
       "    }\n",
       "</style>\n",
       "<table border=\"1\" class=\"dataframe\">\n",
       "  <thead>\n",
       "    <tr style=\"text-align: right;\">\n",
       "      <th></th>\n",
       "      <th>Score</th>\n",
       "      <th>lait</th>\n",
       "      <th>eau</th>\n",
       "      <th>arome</th>\n",
       "      <th>sel</th>\n",
       "      <th>naturel</th>\n",
       "      <th>acide</th>\n",
       "      <th>amidon</th>\n",
       "      <th>sucre</th>\n",
       "      <th>sodium</th>\n",
       "      <th>...</th>\n",
       "      <th>vegetale</th>\n",
       "      <th>huiledecolza</th>\n",
       "      <th>ecreme</th>\n",
       "      <th>huile</th>\n",
       "      <th>lecithine</th>\n",
       "      <th>lactique</th>\n",
       "      <th>citron</th>\n",
       "      <th>jus</th>\n",
       "      <th>riz</th>\n",
       "      <th>fruit</th>\n",
       "    </tr>\n",
       "  </thead>\n",
       "  <tbody>\n",
       "    <tr>\n",
       "      <th>0</th>\n",
       "      <td>D</td>\n",
       "      <td>0</td>\n",
       "      <td>0</td>\n",
       "      <td>0</td>\n",
       "      <td>0</td>\n",
       "      <td>0</td>\n",
       "      <td>0</td>\n",
       "      <td>0</td>\n",
       "      <td>0</td>\n",
       "      <td>0</td>\n",
       "      <td>...</td>\n",
       "      <td>0</td>\n",
       "      <td>0</td>\n",
       "      <td>0</td>\n",
       "      <td>0</td>\n",
       "      <td>0</td>\n",
       "      <td>0</td>\n",
       "      <td>0</td>\n",
       "      <td>0</td>\n",
       "      <td>0</td>\n",
       "      <td>0</td>\n",
       "    </tr>\n",
       "    <tr>\n",
       "      <th>1</th>\n",
       "      <td>C</td>\n",
       "      <td>0</td>\n",
       "      <td>0</td>\n",
       "      <td>0</td>\n",
       "      <td>0</td>\n",
       "      <td>0</td>\n",
       "      <td>0</td>\n",
       "      <td>0</td>\n",
       "      <td>0</td>\n",
       "      <td>0</td>\n",
       "      <td>...</td>\n",
       "      <td>0</td>\n",
       "      <td>0</td>\n",
       "      <td>0</td>\n",
       "      <td>0</td>\n",
       "      <td>0</td>\n",
       "      <td>0</td>\n",
       "      <td>0</td>\n",
       "      <td>0</td>\n",
       "      <td>0</td>\n",
       "      <td>0</td>\n",
       "    </tr>\n",
       "    <tr>\n",
       "      <th>2</th>\n",
       "      <td>B</td>\n",
       "      <td>0</td>\n",
       "      <td>0</td>\n",
       "      <td>0</td>\n",
       "      <td>0</td>\n",
       "      <td>0</td>\n",
       "      <td>0</td>\n",
       "      <td>0</td>\n",
       "      <td>0</td>\n",
       "      <td>0</td>\n",
       "      <td>...</td>\n",
       "      <td>0</td>\n",
       "      <td>0</td>\n",
       "      <td>0</td>\n",
       "      <td>0</td>\n",
       "      <td>0</td>\n",
       "      <td>0</td>\n",
       "      <td>0</td>\n",
       "      <td>0</td>\n",
       "      <td>0</td>\n",
       "      <td>0</td>\n",
       "    </tr>\n",
       "    <tr>\n",
       "      <th>3</th>\n",
       "      <td>C</td>\n",
       "      <td>0</td>\n",
       "      <td>0</td>\n",
       "      <td>0</td>\n",
       "      <td>0</td>\n",
       "      <td>0</td>\n",
       "      <td>0</td>\n",
       "      <td>0</td>\n",
       "      <td>0</td>\n",
       "      <td>0</td>\n",
       "      <td>...</td>\n",
       "      <td>0</td>\n",
       "      <td>0</td>\n",
       "      <td>0</td>\n",
       "      <td>0</td>\n",
       "      <td>0</td>\n",
       "      <td>0</td>\n",
       "      <td>0</td>\n",
       "      <td>0</td>\n",
       "      <td>0</td>\n",
       "      <td>0</td>\n",
       "    </tr>\n",
       "    <tr>\n",
       "      <th>4</th>\n",
       "      <td>D</td>\n",
       "      <td>0</td>\n",
       "      <td>0</td>\n",
       "      <td>0</td>\n",
       "      <td>0</td>\n",
       "      <td>0</td>\n",
       "      <td>0</td>\n",
       "      <td>0</td>\n",
       "      <td>0</td>\n",
       "      <td>0</td>\n",
       "      <td>...</td>\n",
       "      <td>0</td>\n",
       "      <td>0</td>\n",
       "      <td>0</td>\n",
       "      <td>0</td>\n",
       "      <td>0</td>\n",
       "      <td>0</td>\n",
       "      <td>0</td>\n",
       "      <td>0</td>\n",
       "      <td>0</td>\n",
       "      <td>0</td>\n",
       "    </tr>\n",
       "  </tbody>\n",
       "</table>\n",
       "<p>5 rows × 25 columns</p>\n",
       "</div>"
      ],
      "text/plain": [
       "  Score  lait  eau  arome  sel  naturel  acide  amidon  sucre  sodium  ...  \\\n",
       "0     D     0    0      0    0        0      0       0      0       0  ...   \n",
       "1     C     0    0      0    0        0      0       0      0       0  ...   \n",
       "2     B     0    0      0    0        0      0       0      0       0  ...   \n",
       "3     C     0    0      0    0        0      0       0      0       0  ...   \n",
       "4     D     0    0      0    0        0      0       0      0       0  ...   \n",
       "\n",
       "   vegetale  huiledecolza  ecreme  huile  lecithine  lactique  citron  jus  \\\n",
       "0         0             0       0      0          0         0       0    0   \n",
       "1         0             0       0      0          0         0       0    0   \n",
       "2         0             0       0      0          0         0       0    0   \n",
       "3         0             0       0      0          0         0       0    0   \n",
       "4         0             0       0      0          0         0       0    0   \n",
       "\n",
       "   riz  fruit  \n",
       "0    0      0  \n",
       "1    0      0  \n",
       "2    0      0  \n",
       "3    0      0  \n",
       "4    0      0  \n",
       "\n",
       "[5 rows x 25 columns]"
      ]
     },
     "execution_count": 214,
     "metadata": {},
     "output_type": "execute_result"
    }
   ],
   "source": [
    "df.head()"
   ]
  },
  {
   "cell_type": "markdown",
   "id": "612201b1",
   "metadata": {},
   "source": [
    "## Distribution de la target"
   ]
  },
  {
   "cell_type": "code",
   "execution_count": 215,
   "id": "87d6ad79",
   "metadata": {},
   "outputs": [
    {
     "data": {
      "image/png": "[encoded data removed]",
      "text/plain": [
       "<Figure size 1080x360 with 1 Axes>"
      ]
     },
     "metadata": {
      "needs_background": "light"
     },
     "output_type": "display_data"
    }
   ],
   "source": [
    "target_distribution(df,\"Score\")"
   ]
  },
  {
   "cell_type": "markdown",
   "id": "8ff14c98",
   "metadata": {},
   "source": [
    "## Pre-processing avant modélisation"
   ]
  },
  {
   "cell_type": "code",
   "execution_count": 216,
   "id": "ef70b336",
   "metadata": {},
   "outputs": [],
   "source": [
    "y = df[\"Score\"].copy()\n",
    "X = df.drop(\"Score\",axis=1)\n",
    "encoding = {\"E\":0 ,\"D\":1 ,\"C\":2 ,\"B\":3 ,\"A\":4 }\n",
    "y = y.apply(lambda x : encoding[x])\n",
    "X_train, X_test, y_train, y_test = train_test_split(X,y,test_size = 0.3, random_state = 42)"
   ]
  },
  {
   "cell_type": "markdown",
   "id": "7ab4fefc",
   "metadata": {},
   "source": [
    "## Construction du modèle"
   ]
  },
  {
   "cell_type": "markdown",
   "id": "7abd906a",
   "metadata": {},
   "source": [
    "**Regression logistique multiclass**"
   ]
  },
  {
   "cell_type": "code",
   "execution_count": 217,
   "id": "fc473b96",
   "metadata": {},
   "outputs": [],
   "source": [
    "lr = LogisticRegression(multi_class=\"multinomial\",random_state=42,tol=1e-3)\n",
    "cv = RepeatedStratifiedKFold(n_splits=3, n_repeats=2, random_state=42)\n",
    "space = dict()\n",
    "space['solver'] = ['newton-cg','lbfgs','sag','saga'] # 'liblinear','newton-cg','lbfgs','sag','saga'\n",
    "space['penalty'] = ['l2','none']\n",
    "space['C'] = [10,100,0.1,0.01,0.001]\n",
    "scoring = ['roc_auc']"
   ]
  },
  {
   "cell_type": "code",
   "execution_count": 218,
   "id": "bd47a885",
   "metadata": {},
   "outputs": [
    {
     "name": "stdout",
     "output_type": "stream",
     "text": [
      "Fitting 6 folds for each of 40 candidates, totalling 240 fits\n",
      "Wall time: 22.1 s\n"
     ]
    }
   ],
   "source": [
    "%%time\n",
    "search = GridSearchCV(lr, space, scoring ='roc_auc',n_jobs = -1, verbose = 2, cv=cv)\n",
    "result = search.fit(X_train, y_train)"
   ]
  },
  {
   "cell_type": "code",
   "execution_count": 219,
   "id": "151fe456",
   "metadata": {},
   "outputs": [
    {
     "data": {
      "text/plain": [
       "{'C': 10, 'penalty': 'l2', 'solver': 'newton-cg'}"
      ]
     },
     "execution_count": 219,
     "metadata": {},
     "output_type": "execute_result"
    }
   ],
   "source": [
    "result.best_params_"
   ]
  },
  {
   "cell_type": "code",
   "execution_count": 220,
   "id": "732ae736",
   "metadata": {},
   "outputs": [
    {
     "data": {
      "text/plain": [
       "LogisticRegression(C=10, multi_class='multinomial', random_state=42,\n",
       "                   solver='newton-cg', tol=0.001)"
      ]
     },
     "execution_count": 220,
     "metadata": {},
     "output_type": "execute_result"
    }
   ],
   "source": [
    "reg_log_select = result.best_estimator_\n",
    "reg_log_select.fit(X_train, y_train)"
   ]
  },
  {
   "cell_type": "code",
   "execution_count": 222,
   "id": "d55d76a4",
   "metadata": {
    "scrolled": true
   },
   "outputs": [
    {
     "data": {
      "text/plain": [
       "array([[  0,  67,   0,   0,   0],\n",
       "       [  0, 679,   5,   0,   1],\n",
       "       [  0, 423,  14,   1,   4],\n",
       "       [  0, 105,   0,   3,   0],\n",
       "       [  0, 422,   2,   2,   7]], dtype=int64)"
      ]
     },
     "execution_count": 222,
     "metadata": {},
     "output_type": "execute_result"
    }
   ],
   "source": [
    "y_pred = reg_log_select.predict(X_test)\n",
    "y_pred_test = reg_log_select.predict_proba(X_test)\n",
    "y_pred_train = reg_log_select.predict_proba(X_train)\n",
    "_matrix = confusion_matrix(y_test, y_pred)\n",
    "_matrix"
   ]
  },
  {
   "cell_type": "code",
   "execution_count": 223,
   "id": "f886e2ba",
   "metadata": {},
   "outputs": [],
   "source": [
    "score_lr,auc_lr,gini_lr = [],[],[]"
   ]
  },
  {
   "cell_type": "code",
   "execution_count": 224,
   "id": "134015d3",
   "metadata": {},
   "outputs": [
    {
     "name": "stdout",
     "output_type": "stream",
     "text": [
      "Score du modèle train : 0.406\n",
      "Score du modèle test : 0.405\n"
     ]
    }
   ],
   "source": [
    "print(\"Score du modèle train : %.3f\" % reg_log_select.score(X_train, y_train))\n",
    "print(\"Score du modèle test : %.3f\" % reg_log_select.score(X_test, y_test))\n",
    "score_lr.append(reg_log_select.score(X_train, y_train))\n",
    "score_lr.append(reg_log_select.score(X_test, y_test))"
   ]
  },
  {
   "cell_type": "code",
   "execution_count": 225,
   "id": "959b9ffb",
   "metadata": {},
   "outputs": [],
   "source": [
    "y_prob_pred = reg_log_select.predict_proba(X_test)"
   ]
  },
  {
   "cell_type": "code",
   "execution_count": 226,
   "id": "0b2d53b7",
   "metadata": {},
   "outputs": [],
   "source": [
    "auc_train_lr = roc_auc_score(y_train,y_pred_train,multi_class=\"ovr\").round(2)\n",
    "auc_test_lr = roc_auc_score(y_test,y_pred_test,multi_class=\"ovr\").round(2)\n",
    "gini_train_lr = round(2*auc_train_lr - 1,2)\n",
    "gini_test_lr = round(2*auc_test_lr - 1,2)"
   ]
  },
  {
   "cell_type": "code",
   "execution_count": 227,
   "id": "77258e49",
   "metadata": {},
   "outputs": [],
   "source": [
    "auc_lr.append(auc_train_lr)\n",
    "gini_lr.append(gini_train_lr)\n",
    "auc_lr.append(auc_test_lr)\n",
    "gini_lr.append(gini_test_lr)"
   ]
  },
  {
   "cell_type": "markdown",
   "id": "0cb91dfe",
   "metadata": {},
   "source": [
    "**XGBoost multiclass**"
   ]
  },
  {
   "cell_type": "code",
   "execution_count": 228,
   "id": "b4829ccc",
   "metadata": {},
   "outputs": [],
   "source": [
    "xgbc = xgb.XGBClassifier(learning_rate=0.5,\n",
    "                    n_estimators=150,\n",
    "                    max_depth=6,\n",
    "                    min_child_weight=0,\n",
    "                    gamma=0,\n",
    "                    reg_lambda=1,\n",
    "                    subsample=1,\n",
    "                    colsample_bytree=0.75,\n",
    "                    objective='multi:softprob',\n",
    "                    num_class=5,\n",
    "                    random_state=42)\n",
    "\n",
    "mcl = xgbc.fit(X_train, y_train, eval_metric='mlogloss')\n",
    "proba_test = mcl.predict_proba(X_test)\n",
    "proba_train= mcl.predict_proba(X_train)"
   ]
  },
  {
   "cell_type": "code",
   "execution_count": 229,
   "id": "bba1065b",
   "metadata": {},
   "outputs": [],
   "source": [
    "score_xgb,auc_xgb,gini_xgb = [],[],[]"
   ]
  },
  {
   "cell_type": "code",
   "execution_count": 230,
   "id": "b5405a54",
   "metadata": {},
   "outputs": [
    {
     "name": "stdout",
     "output_type": "stream",
     "text": [
      "Score du modèle train : 0.411\n",
      "Score du modèle test : 0.409\n"
     ]
    }
   ],
   "source": [
    "print(\"Score du modèle train : %.3f\" % mcl.score(X_train, y_train))\n",
    "print(\"Score du modèle test : %.3f\" % mcl.score(X_test, y_test))\n",
    "score_xgb.append(mcl.score(X_train, y_train))\n",
    "score_xgb.append(mcl.score(X_test, y_test))"
   ]
  },
  {
   "cell_type": "code",
   "execution_count": 231,
   "id": "7f22fca7",
   "metadata": {},
   "outputs": [],
   "source": [
    "auc_train_xgb = roc_auc_score(y_train,proba_train,multi_class=\"ovr\").round(2)\n",
    "auc_test_xgb = roc_auc_score(y_test,proba_test,multi_class=\"ovr\").round(2)\n",
    "gini_train_xgb = round(2*auc_train_xgb - 1,2)\n",
    "gini_test_xgb = round(2*auc_test_xgb - 1,2)"
   ]
  },
  {
   "cell_type": "code",
   "execution_count": 232,
   "id": "5bc061fa",
   "metadata": {},
   "outputs": [],
   "source": [
    "auc_xgb.append(auc_train_xgb)\n",
    "gini_xgb.append(gini_train_xgb)\n",
    "auc_xgb.append(auc_test_xgb)\n",
    "gini_xgb.append(gini_test_xgb)"
   ]
  },
  {
   "cell_type": "code",
   "execution_count": 233,
   "id": "d267187a",
   "metadata": {},
   "outputs": [],
   "source": [
    "resume = pd.DataFrame({\"Score Logistic Regression\":score_lr,\"AUC Logistic Regression\":auc_lr,\"GINI Logistic Regression\":gini_lr,\n",
    "              \"Score XGBoost\":score_xgb,\"AUC XGBoost\":auc_xgb,\"GINI XGBoost\":gini_xgb})\n",
    "resume.index = [\"TRAIN\",\"TEST\"]"
   ]
  },
  {
   "cell_type": "code",
   "execution_count": 234,
   "id": "b563caff",
   "metadata": {},
   "outputs": [
    {
     "data": {
      "text/html": [
       "<div>\n",
       "<style scoped>\n",
       "    .dataframe tbody tr th:only-of-type {\n",
       "        vertical-align: middle;\n",
       "    }\n",
       "\n",
       "    .dataframe tbody tr th {\n",
       "        vertical-align: top;\n",
       "    }\n",
       "\n",
       "    .dataframe thead th {\n",
       "        text-align: right;\n",
       "    }\n",
       "</style>\n",
       "<table border=\"1\" class=\"dataframe\">\n",
       "  <thead>\n",
       "    <tr style=\"text-align: right;\">\n",
       "      <th></th>\n",
       "      <th>Score Logistic Regression</th>\n",
       "      <th>AUC Logistic Regression</th>\n",
       "      <th>GINI Logistic Regression</th>\n",
       "      <th>Score XGBoost</th>\n",
       "      <th>AUC XGBoost</th>\n",
       "      <th>GINI XGBoost</th>\n",
       "    </tr>\n",
       "  </thead>\n",
       "  <tbody>\n",
       "    <tr>\n",
       "      <th>TRAIN</th>\n",
       "      <td>0.406474</td>\n",
       "      <td>0.53</td>\n",
       "      <td>0.06</td>\n",
       "      <td>0.411416</td>\n",
       "      <td>0.53</td>\n",
       "      <td>0.06</td>\n",
       "    </tr>\n",
       "    <tr>\n",
       "      <th>TEST</th>\n",
       "      <td>0.405187</td>\n",
       "      <td>0.52</td>\n",
       "      <td>0.04</td>\n",
       "      <td>0.408646</td>\n",
       "      <td>0.52</td>\n",
       "      <td>0.04</td>\n",
       "    </tr>\n",
       "  </tbody>\n",
       "</table>\n",
       "</div>"
      ],
      "text/plain": [
       "       Score Logistic Regression  AUC Logistic Regression  \\\n",
       "TRAIN                   0.406474                     0.53   \n",
       "TEST                    0.405187                     0.52   \n",
       "\n",
       "       GINI Logistic Regression  Score XGBoost  AUC XGBoost  GINI XGBoost  \n",
       "TRAIN                      0.06       0.411416         0.53          0.06  \n",
       "TEST                       0.04       0.408646         0.52          0.04  "
      ]
     },
     "execution_count": 234,
     "metadata": {},
     "output_type": "execute_result"
    }
   ],
   "source": [
    "resume"
   ]
  },
  {
   "cell_type": "code",
   "execution_count": null,
   "id": "52e0bcf8",
   "metadata": {},
   "outputs": [],
   "source": []
  },
  {
   "cell_type": "code",
   "execution_count": null,
   "id": "f5314b0c",
   "metadata": {},
   "outputs": [],
   "source": []
  }
 ],
 "metadata": {
  "kernelspec": {
   "display_name": "Python 3 (ipykernel)",
   "language": "python",
   "name": "python3"
  },
  "language_info": {
   "codemirror_mode": {
    "name": "ipython",
    "version": 3
   },
   "file_extension": ".py",
   "mimetype": "text/x-python",
   "name": "python",
   "nbconvert_exporter": "python",
   "pygments_lexer": "ipython3",
   "version": "3.9.7"
  }
 },
 "nbformat": 4,
 "nbformat_minor": 5
}
